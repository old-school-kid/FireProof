{
  "cells": [
    {
      "cell_type": "markdown",
      "metadata": {
        "colab_type": "text",
        "id": "view-in-github"
      },
      "source": [
        "<a href=\"https://colab.research.google.com/github/harsh-hks-580/FireProof/blob/main/modelfire_train.ipynb\" target=\"_parent\"><img src=\"https://colab.research.google.com/assets/colab-badge.svg\" alt=\"Open In Colab\"/></a>"
      ]
    },
    {
      "cell_type": "code",
      "execution_count": null,
      "metadata": {
        "colab": {
          "base_uri": "https://localhost:8080/"
        },
        "id": "BIqFsvI6FEhq",
        "outputId": "65fae616-cf56-4a5d-ecba-0731eb08897a"
      },
      "outputs": [
        {
          "name": "stdout",
          "output_type": "stream",
          "text": [
            "Mounted at /content/drive\n"
          ]
        }
      ],
      "source": [
        "from google.colab import drive\n",
        "drive.mount('/content/drive')"
      ]
    },
    {
      "cell_type": "code",
      "execution_count": null,
      "metadata": {
        "colab": {
          "base_uri": "https://localhost:8080/"
        },
        "id": "5fL0kAPxFM6u",
        "outputId": "03e00288-f71b-42ce-ce7e-1cf461d1eb18"
      },
      "outputs": [
        {
          "name": "stdout",
          "output_type": "stream",
          "text": [
            "/content/drive/MyDrive\n"
          ]
        }
      ],
      "source": [
        "%cd /content/drive/MyDrive"
      ]
    },
    {
      "cell_type": "code",
      "execution_count": null,
      "metadata": {
        "id": "BbiWxOOJNvGk"
      },
      "outputs": [],
      "source": [
        "import numpy as np\n",
        "import pandas as pd\n",
        "import os\n",
        "import random\n",
        "import tensorflow as tf\n",
        "from tensorflow.keras.preprocessing.image import ImageDataGenerator\n",
        "import keras.backend as K\n",
        "\n",
        "from tensorflow.keras.layers import *\n",
        "from tensorflow.keras.callbacks import *\n",
        "from tensorflow.keras.optimizers import *\n",
        "from tensorflow.keras.applications import Xception, InceptionV3, MobileNetV2, NASNetMobile, EfficientNetB0    #Xception 299, inceptionV2 299, Nasnet 224\n",
        "from tensorflow.keras.activations import *\n",
        "from tensorflow.keras.losses import *\n",
        "from keras.callbacks import LearningRateScheduler\n",
        "\n",
        "import cv2\n",
        "from google.colab.patches import cv2_imshow\n",
        "import matplotlib.pyplot as plt\n",
        "import joblib\n",
        "from keras.preprocessing.image import load_img\n",
        "from keras.preprocessing import image\n",
        "\n",
        "%matplotlib inline"
      ]
    },
    {
      "cell_type": "code",
      "execution_count": null,
      "metadata": {
        "colab": {
          "base_uri": "https://localhost:8080/"
        },
        "id": "-0NoROKaJ51d",
        "outputId": "10d07ea3-c9a4-4450-f461-943bdb6387d6"
      },
      "outputs": [
        {
          "name": "stdout",
          "output_type": "stream",
          "text": [
            "Num GPUs Available:  1\n"
          ]
        }
      ],
      "source": [
        "print(\"Num GPUs Available: \", len(tf.config.experimental.list_physical_devices('GPU')))"
      ]
    },
    {
      "cell_type": "code",
      "execution_count": null,
      "metadata": {
        "colab": {
          "base_uri": "https://localhost:8080/"
        },
        "id": "BZ-vpe5a5oH9",
        "outputId": "276d2211-8667-493f-838c-df601b34266e"
      },
      "outputs": [
        {
          "name": "stdout",
          "output_type": "stream",
          "text": [
            "Found 8795 images belonging to 2 classes.\n",
            "Found 976 images belonging to 2 classes.\n",
            "Found 1472 images belonging to 2 classes.\n"
          ]
        }
      ],
      "source": [
        "train_dir = '/content/drive/MyDrive/Fire-Safety-Dataset/Train/'\n",
        "train_datagen = ImageDataGenerator(rescale=1./255,\n",
        "    shear_range=0.1,\n",
        "    zoom_range=0.1,\n",
        "    width_shift_range=0.1,\n",
        "    height_shift_range=0.1,\n",
        "    horizontal_flip=True,\n",
        "    vertical_flip=True,\n",
        "    validation_split=0.1\n",
        "                                  )\n",
        "train_generator = train_datagen.flow_from_directory(train_dir,\n",
        "                                                    batch_size=16,\n",
        "                                                    class_mode='categorical',\n",
        "                                                    target_size=(224,224),\n",
        "                                                    subset = 'training',\n",
        "                                                    shuffle = True)\n",
        "\n",
        "validation_dir = train_dir\n",
        "validation_datagen = ImageDataGenerator(rescale=1.0/255,\n",
        "                                        validation_split = 0.1\n",
        "                                        )\n",
        "validation_generator = validation_datagen.flow_from_directory(validation_dir,\n",
        "                                                              batch_size=16,\n",
        "                                                              subset = 'validation',\n",
        "                                                              class_mode ='categorical',\n",
        "                                                              target_size=(224,224),\n",
        "                                                              shuffle = True)\n",
        "\n",
        "test_dir = '/content/drive/MyDrive/Fire-Safety-Dataset/Test/'\n",
        "test_datagen = ImageDataGenerator(rescale = 1./255,\n",
        "                                  )\n",
        "test_generator =test_datagen.flow_from_directory(test_dir,\n",
        "                                                              batch_size=16,\n",
        "                                                              class_mode ='categorical',\n",
        "                                                              target_size=(224,224),\n",
        "                                                              shuffle = True)"
      ]
    },
    {
      "cell_type": "code",
      "execution_count": null,
      "metadata": {
        "colab": {
          "base_uri": "https://localhost:8080/"
        },
        "id": "DJntC_vCISuI",
        "outputId": "84d63eb6-fed6-4e01-a847-9e196cbadf66"
      },
      "outputs": [
        {
          "name": "stdout",
          "output_type": "stream",
          "text": [
            "Downloading data from https://storage.googleapis.com/tensorflow/keras-applications/mobilenet_v2/mobilenet_v2_weights_tf_dim_ordering_tf_kernels_1.0_224_no_top.h5\n",
            "9412608/9406464 [==============================] - 0s 0us/step\n"
          ]
        }
      ],
      "source": [
        "base_model = MobileNetV2(\n",
        "    include_top=False, weights='imagenet', input_tensor=None,\n",
        "    input_shape=(224,224,3), classes = 2\n",
        ")\n",
        "\n",
        "fine_tune_at = int (len(base_model.layers)*0.7)\n",
        "for layer in base_model.layers[:fine_tune_at]:\n",
        "  layer.trainable =  False"
      ]
    },
    {
      "cell_type": "code",
      "execution_count": null,
      "metadata": {
        "colab": {
          "base_uri": "https://localhost:8080/"
        },
        "id": "0l0nnoqDISyG",
        "outputId": "9772080f-b8b2-4d9f-b58a-fcd1b4e2bcf8"
      },
      "outputs": [
        {
          "name": "stdout",
          "output_type": "stream",
          "text": [
            "Model: \"sequential_1\"\n",
            "_________________________________________________________________\n",
            "Layer (type)                 Output Shape              Param #   \n",
            "=================================================================\n",
            "mobilenetv2_1.00_224 (Functi (None, 7, 7, 1280)        2257984   \n",
            "_________________________________________________________________\n",
            "flatten_1 (Flatten)          (None, 62720)             0         \n",
            "_________________________________________________________________\n",
            "dense_3 (Dense)              (None, 128)               8028288   \n",
            "_________________________________________________________________\n",
            "dropout_1 (Dropout)          (None, 128)               0         \n",
            "_________________________________________________________________\n",
            "dense_4 (Dense)              (None, 64)                8256      \n",
            "_________________________________________________________________\n",
            "dense_5 (Dense)              (None, 2)                 130       \n",
            "=================================================================\n",
            "Total params: 10,294,658\n",
            "Trainable params: 9,836,290\n",
            "Non-trainable params: 458,368\n",
            "_________________________________________________________________\n"
          ]
        }
      ],
      "source": [
        "model = tf.keras.models.Sequential()\n",
        "model.add(base_model)\n",
        "model.add(Flatten())\n",
        "model.add(Dense(128,activation='relu'))\n",
        "model.add(Dropout(0.3))\n",
        "model.add(Dense(64,activation='relu'))\n",
        "model.add(Dense(2,activation='softmax'))\n",
        "#tf.keras.models.load_model('suryafire.h5')\n",
        "model.compile(optimizer = Adam(lr=2e-5), loss='binary_crossentropy', metrics=['acc'])\n",
        "model.summary()"
      ]
    },
    {
      "cell_type": "code",
      "execution_count": null,
      "metadata": {
        "colab": {
          "base_uri": "https://localhost:8080/"
        },
        "id": "tSyjbJugfT8z",
        "outputId": "0e3b5794-813b-4fb3-cb0a-777cfed043a6"
      },
      "outputs": [
        {
          "name": "stdout",
          "output_type": "stream",
          "text": [
            "(1472, 2)\n",
            "0.8002717391304348\n"
          ]
        }
      ],
      "source": [
        "labels = test_generator.classes\n",
        "preds = model.predict(test_generator)\n",
        "correct = 0\n",
        "print(preds.shape)\n",
        "for i in range(labels.size):\n",
        "  ilabel = 1\n",
        "  if preds[i][0] > preds[i][1]:\n",
        "    ilabel = 0\n",
        "  if labels[i] == ilabel :\n",
        "    correct = correct + 1\n",
        "\n",
        "print(correct/ (labels.size))"
      ]
    },
    {
      "cell_type": "code",
      "execution_count": null,
      "metadata": {
        "colab": {
          "base_uri": "https://localhost:8080/"
        },
        "id": "f2Xyuf9C4feR",
        "outputId": "716a795a-608e-463f-815e-f610435de09e"
      },
      "outputs": [
        {
          "name": "stdout",
          "output_type": "stream",
          "text": [
            "0.8002717391304348\n"
          ]
        }
      ],
      "source": [
        "correct = 0\n",
        "for i in range(92) :\n",
        "  test_x, test_y = test_generator.__getitem__(i)\n",
        "  preds = model.predict(test_x)\n",
        "  for i in range(preds.shape[0]):\n",
        "    if np.argmax(preds[i]) == np.argmax(test_y[i]):\n",
        "      correct += 1\n",
        "print( correct/ test_generator.n)"
      ]
    },
    {
      "cell_type": "code",
      "execution_count": null,
      "metadata": {
        "id": "HramrWLaIS0I"
      },
      "outputs": [],
      "source": [
        "filepath= 'suryafire.h5'  \n",
        "my_callbacks = [\n",
        "  ReduceLROnPlateau(\n",
        "    monitor='val_acc', factor=0.5, patience=3, verbose=True,\n",
        "    mode='auto', min_delta=0.000001, cooldown=0, min_lr=0 \n",
        "  ), \n",
        "  ModelCheckpoint(\n",
        "    filepath, monitor='val_loss', verbose=0, save_best_only=True, mode= 'min')]"
      ]
    },
    {
      "cell_type": "code",
      "execution_count": null,
      "metadata": {
        "colab": {
          "base_uri": "https://localhost:8080/"
        },
        "id": "Ne4rRMihIS1v",
        "outputId": "bd615c7f-ca15-4c6b-996f-94681484b82b"
      },
      "outputs": [
        {
          "name": "stdout",
          "output_type": "stream",
          "text": [
            "Epoch 1/10\n",
            "550/550 [==============================] - 110s 192ms/step - loss: 0.4714 - acc: 0.7739 - val_loss: 0.0983 - val_acc: 0.9672\n",
            "Epoch 2/10\n",
            "550/550 [==============================] - 107s 192ms/step - loss: 0.1546 - acc: 0.9437 - val_loss: 0.0725 - val_acc: 0.9723\n",
            "Epoch 3/10\n",
            "550/550 [==============================] - 106s 191ms/step - loss: 0.1119 - acc: 0.9601 - val_loss: 0.0605 - val_acc: 0.9775\n",
            "Epoch 4/10\n",
            "550/550 [==============================] - 107s 192ms/step - loss: 0.0884 - acc: 0.9674 - val_loss: 0.0591 - val_acc: 0.9764\n",
            "Epoch 5/10\n",
            "550/550 [==============================] - 106s 191ms/step - loss: 0.0774 - acc: 0.9734 - val_loss: 0.0834 - val_acc: 0.9775\n",
            "Epoch 6/10\n",
            "550/550 [==============================] - 106s 190ms/step - loss: 0.0702 - acc: 0.9759 - val_loss: 0.0766 - val_acc: 0.9764\n",
            "\n",
            "Epoch 00006: ReduceLROnPlateau reducing learning rate to 9.999999747378752e-06.\n",
            "Epoch 7/10\n",
            "550/550 [==============================] - 106s 190ms/step - loss: 0.0606 - acc: 0.9781 - val_loss: 0.0775 - val_acc: 0.9775\n",
            "Epoch 8/10\n",
            "550/550 [==============================] - 106s 191ms/step - loss: 0.0472 - acc: 0.9851 - val_loss: 0.0766 - val_acc: 0.9775\n",
            "Epoch 9/10\n",
            "550/550 [==============================] - 106s 191ms/step - loss: 0.0459 - acc: 0.9835 - val_loss: 0.0659 - val_acc: 0.9846\n",
            "Epoch 10/10\n",
            "550/550 [==============================] - 106s 191ms/step - loss: 0.0373 - acc: 0.9894 - val_loss: 0.0628 - val_acc: 0.9836\n"
          ]
        }
      ],
      "source": [
        "history = model.fit(train_generator,\n",
        "                    shuffle = True,\n",
        "                    epochs=10,\n",
        "                    workers = 8,\n",
        "                    verbose=True,\n",
        "                    validation_data=validation_generator,\n",
        "                    callbacks=my_callbacks)"
      ]
    },
    {
      "cell_type": "code",
      "execution_count": null,
      "metadata": {
        "colab": {
          "base_uri": "https://localhost:8080/"
        },
        "id": "B8uSX3_s-8sL",
        "outputId": "264d3cb7-1c57-412d-ad10-55999bf81f81"
      },
      "outputs": [
        {
          "name": "stdout",
          "output_type": "stream",
          "text": [
            "(1472, 2)\n",
            "0.670516304347826\n"
          ]
        }
      ],
      "source": [
        "labels = test_generator.classes\n",
        "preds = model.predict(test_generator)\n",
        "correct = 0\n",
        "print(preds.shape)\n",
        "for i in range(labels.size):\n",
        "  ilabel = 1\n",
        "  if preds[i][0] > preds[i][1]:\n",
        "    ilabel = 0\n",
        "  if labels[i] == ilabel :\n",
        "    correct = correct + 1\n",
        "\n",
        "print(correct/ (labels.size))"
      ]
    },
    {
      "cell_type": "code",
      "execution_count": null,
      "metadata": {
        "colab": {
          "base_uri": "https://localhost:8080/",
          "height": 553
        },
        "id": "Ewrjsc_dIS4I",
        "outputId": "2fe280ab-4dbd-4ccf-df88-8ae8d631a6ff"
      },
      "outputs": [
        {
          "name": "stdout",
          "output_type": "stream",
          "text": [
            "[0.8673110008239746, 0.9479249715805054, 0.9606594443321228, 0.9696418642997742, 0.973393976688385, 0.9764639139175415, 0.9803297519683838, 0.9854462742805481, 0.9849914908409119, 0.9856736660003662]\n",
            "[0.9672130942344666, 0.9723360538482666, 0.9774590134620667, 0.9764344096183777, 0.9774590134620667, 0.9764344096183777, 0.9774590134620667, 0.9774590134620667, 0.9846311211585999, 0.9836065769195557]\n"
          ]
        },
        {
          "data": {
            "image/png": "[encoded data removed]",
            "text/plain": [
              "<Figure size 576x576 with 2 Axes>"
            ]
          },
          "metadata": {
            "needs_background": "light",
            "tags": []
          },
          "output_type": "display_data"
        }
      ],
      "source": [
        "acc = history.history['acc']\n",
        "val_acc = history.history['val_acc']\n",
        "\n",
        "loss = history.history['loss']\n",
        "val_loss = history.history['val_loss']\n",
        "\n",
        "print(acc)\n",
        "print(val_acc)\n",
        "\n",
        "plt.figure(figsize=(8, 8))\n",
        "plt.subplot(2, 1, 1)\n",
        "plt.plot(acc, label='Training Accuracy')\n",
        "plt.plot(val_acc, label='Validation Accuracy')\n",
        "plt.legend(loc='lower right')\n",
        "plt.ylabel('Accuracy')\n",
        "plt.ylim([min(plt.ylim()),1])\n",
        "plt.title('Training and Validation Accuracy')\n",
        "\n",
        "plt.subplot(2, 1, 2)\n",
        "plt.plot(loss, label='Training Loss')\n",
        "plt.plot(val_loss, label='Validation Loss')\n",
        "plt.legend(loc='upper right')\n",
        "plt.ylabel('Cross Entropy')\n",
        "plt.ylim([0,max(plt.ylim())])\n",
        "plt.title('Training and Validation Loss')\n",
        "plt.show()"
      ]
    },
    {
      "cell_type": "code",
      "execution_count": null,
      "metadata": {
        "id": "J6he4C384VA5"
      },
      "outputs": [],
      "source": [
        "def Branch1(x):\n",
        "  y= Conv2D(filters= 28 , kernel_size= (1,1),input_shape=(54,54,32),\n",
        "                    padding= \"valid\" ,activation='linear', use_bias= True) (x)\n",
        "  y= Conv2D(filters= 28 , kernel_size= (3,3),\n",
        "                    padding= \"valid\" ,activation='linear', use_bias= True) (y)\n",
        "  y= (MaxPooling2D(pool_size=(2, 2), padding='valid'))(y)\n",
        "  y= Conv2D(filters= 56 , kernel_size= (3,3),\n",
        "                    padding= \"valid\" ,activation='linear', use_bias= True) (y)\n",
        "  return y\n",
        "\n",
        "def Branch2(x):\n",
        "  y= Conv2D(filters= 28 , kernel_size= (1,1), input_shape=(54,54,32),\n",
        "                    padding= \"valid\" ,activation='relu', use_bias= True)(x)\n",
        "  y= Conv2D(filters= 28 , kernel_size= (4,1),\n",
        "                    padding= \"valid\" ,activation='relu', use_bias= True) (y)\n",
        "  y= Conv2D(filters= 28 , kernel_size= (1,4),\n",
        "                    padding= \"valid\" ,activation='relu', use_bias= True) (y)\n",
        "  y= (MaxPooling2D(pool_size=(2, 2), padding='valid'))(y)\n",
        "  y= Conv2D(filters= 56 , kernel_size= (2,2),\n",
        "                    padding= \"valid\" ,activation='relu', use_bias= True) (y)\n",
        "  \n",
        "  return y"
      ]
    },
    {
      "cell_type": "code",
      "execution_count": null,
      "metadata": {
        "id": "QAwy9ynT7-ix"
      },
      "outputs": [],
      "source": [
        "input= tf.keras.Input((224, 224, 3))\n",
        "deepFire=Conv2D(filters= 16 , kernel_size= (3,3), \n",
        "                    padding= \"valid\" ,activation='relu')(input)\n",
        "deepFire=(AveragePooling2D(pool_size=(3, 3), padding='valid'))(deepFire)\n",
        "deepFire=(Dropout(0.2))(deepFire)\n",
        "\n",
        "deepFire=Conv2D(filters= 32 , kernel_size= (3,3), \n",
        "                    padding= \"valid\" ,activation='relu')(input)\n",
        "deepFire=(AveragePooling2D(pool_size=(3, 3), padding='valid'))(deepFire)\n",
        "deepFire=(Dropout(0.2))(deepFire)\n",
        "\n",
        "deepFire=Conv2D(filters= 64 , kernel_size= (3,3), \n",
        "                    padding= \"valid\" ,activation='relu')(input)\n",
        "deepFire=(AveragePooling2D(pool_size=(3, 3), padding='valid'))(deepFire)\n",
        "deepFire=(Dropout(0.2))(deepFire)\n",
        "\n",
        "\n",
        "deepFire=(Flatten())(deepFire)\n",
        "deepFire=(Dense(256, activation= 'relu'))(deepFire)\n",
        "deepFire=(Dropout(0.2))(deepFire)\n",
        "deepFire=(Dense(128, activation='relu'))(deepFire)\n",
        "deepFire_out=(Dense(2, activation= 'softmax'))(deepFire)"
      ]
    },
    {
      "cell_type": "code",
      "execution_count": null,
      "metadata": {
        "colab": {
          "base_uri": "https://localhost:8080/"
        },
        "id": "rz3BmoSf9ifv",
        "outputId": "00aba406-2404-4d27-fd10-d66c7cfcd75a"
      },
      "outputs": [
        {
          "name": "stdout",
          "output_type": "stream",
          "text": [
            "Model: \"model\"\n",
            "_________________________________________________________________\n",
            "Layer (type)                 Output Shape              Param #   \n",
            "=================================================================\n",
            "input_3 (InputLayer)         [(None, 224, 224, 3)]     0         \n",
            "_________________________________________________________________\n",
            "conv2d_2 (Conv2D)            (None, 222, 222, 64)      1792      \n",
            "_________________________________________________________________\n",
            "average_pooling2d_2 (Average (None, 74, 74, 64)        0         \n",
            "_________________________________________________________________\n",
            "dropout_4 (Dropout)          (None, 74, 74, 64)        0         \n",
            "_________________________________________________________________\n",
            "flatten_2 (Flatten)          (None, 350464)            0         \n",
            "_________________________________________________________________\n",
            "dense_6 (Dense)              (None, 256)               89719040  \n",
            "_________________________________________________________________\n",
            "dropout_5 (Dropout)          (None, 256)               0         \n",
            "_________________________________________________________________\n",
            "dense_7 (Dense)              (None, 128)               32896     \n",
            "_________________________________________________________________\n",
            "dense_8 (Dense)              (None, 2)                 258       \n",
            "=================================================================\n",
            "Total params: 89,753,986\n",
            "Trainable params: 89,753,986\n",
            "Non-trainable params: 0\n",
            "_________________________________________________________________\n"
          ]
        }
      ],
      "source": [
        "deepFire = tf.keras.models.Model(input,deepFire_out)\n",
        "deepFire.compile(optimizer=RMSprop(lr=0.001), loss='binary_crossentropy', metrics=['acc'])\n",
        "deepFire.summary()\n",
        "#plot_model(deepFire, show_shapes=True)"
      ]
    },
    {
      "cell_type": "code",
      "execution_count": null,
      "metadata": {
        "colab": {
          "base_uri": "https://localhost:8080/"
        },
        "id": "8A0cUVJ99rhW",
        "outputId": "760b974e-f56c-492f-a466-e104e4f4f25e"
      },
      "outputs": [
        {
          "name": "stdout",
          "output_type": "stream",
          "text": [
            "0.4008152173913043\n"
          ]
        }
      ],
      "source": [
        "labels = test_generator.classes\n",
        "preds = deepFire.predict(test_generator)\n",
        "correct = 0\n",
        "for i in range(labels.size):\n",
        "  ilabel = 1\n",
        "  if preds[i][0] > preds[i][1]:\n",
        "    ilabel = 0\n",
        "  if labels[i] == ilabel :\n",
        "    correct = correct + 1\n",
        "\n",
        "print(correct/ (labels.size))"
      ]
    },
    {
      "cell_type": "code",
      "execution_count": null,
      "metadata": {
        "colab": {
          "base_uri": "https://localhost:8080/"
        },
        "id": "zOG6trHe92zC",
        "outputId": "2288717b-bf5b-4298-8122-c5832701f689"
      },
      "outputs": [
        {
          "name": "stdout",
          "output_type": "stream",
          "text": [
            "0.3383152173913043\n"
          ]
        }
      ],
      "source": [
        "correct = 0\n",
        "for i in range(92) :\n",
        "  test_x, test_y = test_generator.__getitem__(i)\n",
        "  preds = deepFire.predict(test_x)\n",
        "  for i in range(preds.shape[0]):\n",
        "    if np.argmax(preds[i]) == np.argmax(test_y[i]):\n",
        "      correct += 1\n",
        "print( correct/ test_generator.n)"
      ]
    },
    {
      "cell_type": "code",
      "execution_count": null,
      "metadata": {
        "id": "sXKjRWTH-JdK"
      },
      "outputs": [],
      "source": [
        "filepath= 'suryafirecustom.h5'  \n",
        "my_callbacks = [\n",
        "  ReduceLROnPlateau(\n",
        "    monitor='val_acc', factor=0.5, patience=3, verbose=True,\n",
        "    mode='auto', min_delta=0.000001, cooldown=0, min_lr=0 \n",
        "  ), \n",
        "  ModelCheckpoint(\n",
        "    filepath, monitor='val_loss', verbose=0, save_best_only=True, mode= 'min')]"
      ]
    },
    {
      "cell_type": "code",
      "execution_count": null,
      "metadata": {
        "colab": {
          "base_uri": "https://localhost:8080/"
        },
        "id": "sMAUetU499Ik",
        "outputId": "5c119005-f067-43b8-97a0-4da1f14816b1"
      },
      "outputs": [
        {
          "name": "stdout",
          "output_type": "stream",
          "text": [
            "Epoch 1/5\n",
            "550/550 [==============================] - 106s 189ms/step - loss: 1.4464 - acc: 0.6762 - val_loss: 0.5160 - val_acc: 0.7910\n",
            "Epoch 2/5\n",
            "550/550 [==============================] - 106s 189ms/step - loss: 0.5325 - acc: 0.7655 - val_loss: 0.3782 - val_acc: 0.8156\n",
            "Epoch 3/5\n",
            "550/550 [==============================] - 106s 190ms/step - loss: 0.4774 - acc: 0.7961 - val_loss: 0.4093 - val_acc: 0.8709\n",
            "Epoch 4/5\n",
            "550/550 [==============================] - 103s 186ms/step - loss: 0.4697 - acc: 0.8063 - val_loss: 0.3329 - val_acc: 0.8863\n",
            "Epoch 5/5\n",
            "550/550 [==============================] - 105s 189ms/step - loss: 0.4465 - acc: 0.8179 - val_loss: 0.3155 - val_acc: 0.8883\n"
          ]
        }
      ],
      "source": [
        "history = deepFire.fit(train_generator,\n",
        "                    shuffle = True,\n",
        "                    epochs=5,\n",
        "                    workers = 8,\n",
        "                    verbose=True,\n",
        "                    validation_data=validation_generator,\n",
        "                    callbacks=my_callbacks)"
      ]
    },
    {
      "cell_type": "code",
      "execution_count": null,
      "metadata": {
        "colab": {
          "base_uri": "https://localhost:8080/"
        },
        "id": "LId0nXQ6-Rde",
        "outputId": "08f5a881-621b-4907-9216-94c011eb23d8"
      },
      "outputs": [
        {
          "name": "stdout",
          "output_type": "stream",
          "text": [
            "[0.7137009501457214, 0.773393988609314, 0.7960204482078552, 0.8125070929527283, 0.8193291425704956]\n",
            "[0.7909836173057556, 0.8155737519264221, 0.8709016442298889, 0.8862704634666443, 0.8883196711540222]\n"
          ]
        },
        {
          "data": {
            "image/png": "[encoded data removed]",
            "text/plain": [
              "<Figure size 576x576 with 2 Axes>"
            ]
          },
          "metadata": {
            "needs_background": "light",
            "tags": []
          },
          "output_type": "display_data"
        }
      ],
      "source": [
        "acc = history.history['acc']\n",
        "val_acc = history.history['val_acc']\n",
        "\n",
        "loss = history.history['loss']\n",
        "val_loss = history.history['val_loss']\n",
        "\n",
        "print(acc)\n",
        "print(val_acc)\n",
        "\n",
        "plt.figure(figsize=(8, 8))\n",
        "plt.subplot(2, 1, 1)\n",
        "plt.plot(acc, label='Training Accuracy')\n",
        "plt.plot(val_acc, label='Validation Accuracy')\n",
        "plt.legend(loc='lower right')\n",
        "plt.ylabel('Accuracy')\n",
        "plt.ylim([min(plt.ylim()),1])\n",
        "plt.title('Training and Validation Accuracy')\n",
        "\n",
        "plt.subplot(2, 1, 2)\n",
        "plt.plot(loss, label='Training Loss')\n",
        "plt.plot(val_loss, label='Validation Loss')\n",
        "plt.legend(loc='upper right')\n",
        "plt.ylabel('Cross Entropy')\n",
        "plt.ylim([0,max(plt.ylim())])\n",
        "plt.title('Training and Validation Loss')\n",
        "plt.show()"
      ]
    },
    {
      "cell_type": "code",
      "execution_count": null,
      "metadata": {
        "id": "1IS7yxEp-VBa"
      },
      "outputs": [],
      "source": [
        "##hks"
      ]
    },
    {
      "cell_type": "code",
      "execution_count": null,
      "metadata": {
        "colab": {
          "base_uri": "https://localhost:8080/"
        },
        "id": "kY6x-B2WfXTO",
        "outputId": "32ffaa77-9c60-4d11-9ef2-3a374a2f2a9c"
      },
      "outputs": [
        {
          "name": "stdout",
          "output_type": "stream",
          "text": [
            "Mounted at /content/drive\n",
            "/content/drive/MyDrive\n"
          ]
        }
      ],
      "source": [
        "from google.colab import drive\n",
        "drive.mount('/content/drive')\n",
        "\n",
        "%cd /content/drive/MyDrive"
      ]
    },
    {
      "cell_type": "code",
      "execution_count": null,
      "metadata": {
        "colab": {
          "base_uri": "https://localhost:8080/"
        },
        "id": "eY2qf-CkfZnv",
        "outputId": "272182c2-4377-42ec-8d85-7f0aeec41176"
      },
      "outputs": [
        {
          "name": "stderr",
          "output_type": "stream",
          "text": [
            "/usr/local/lib/python3.7/dist-packages/sklearn/externals/joblib/__init__.py:15: FutureWarning: sklearn.externals.joblib is deprecated in 0.21 and will be removed in 0.23. Please import this functionality directly from joblib, which can be installed with: pip install joblib. If this warning is raised when loading pickled models, you may need to re-serialize those models with scikit-learn 0.21+.\n",
            "  warnings.warn(msg, category=FutureWarning)\n"
          ]
        }
      ],
      "source": [
        "import numpy as np\n",
        "import pandas as pd\n",
        "import os\n",
        "import random\n",
        "import tensorflow as tf\n",
        "from tensorflow.keras.optimizers import RMSprop, Adam\n",
        "from tensorflow.keras.preprocessing.image import ImageDataGenerator\n",
        "import keras as K\n",
        "from tensorflow.keras import layers\n",
        "\n",
        "from tensorflow.keras.layers import Dense, Dropout, Flatten, BatchNormalization, GlobalAveragePooling2D\n",
        "from tensorflow.keras import activations\n",
        "from keras.callbacks import LearningRateScheduler as lrschduler\n",
        "\n",
        "import cv2\n",
        "from google.colab.patches import cv2_imshow\n",
        "import matplotlib.pyplot as plt\n",
        "from sklearn.externals import joblib\n",
        "from keras.preprocessing.image import load_img\n",
        "from keras.preprocessing import image\n",
        "\n",
        "%matplotlib inline"
      ]
    },
    {
      "cell_type": "code",
      "execution_count": null,
      "metadata": {
        "colab": {
          "base_uri": "https://localhost:8080/"
        },
        "id": "agix9pIofe6f",
        "outputId": "6f0cd2eb-49a5-44b4-ba0d-30b14fda5c4b"
      },
      "outputs": [
        {
          "name": "stdout",
          "output_type": "stream",
          "text": [
            "Found 8795 images belonging to 2 classes.\n",
            "Found 976 images belonging to 2 classes.\n",
            "Found 1472 images belonging to 2 classes.\n"
          ]
        }
      ],
      "source": [
        "train_dir = '/content/drive/MyDrive/Fire-Safety-Dataset/Train/'\n",
        "train_datagen = ImageDataGenerator(rescale=1./255,\n",
        "    shear_range=0.1,\n",
        "    zoom_range=0.1,\n",
        "    width_shift_range=0.1,\n",
        "    height_shift_range=0.1,\n",
        "    horizontal_flip=True,\n",
        "    vertical_flip=True,\n",
        "    validation_split=0.1\n",
        "                                  )\n",
        "train_generator = train_datagen.flow_from_directory(train_dir,\n",
        "                                                    batch_size=32,\n",
        "                                                    class_mode='categorical',\n",
        "                                                    target_size=(64,64),\n",
        "                                                    subset = 'training',\n",
        "                                                    shuffle = True)\n",
        "\n",
        "validation_dir = train_dir\n",
        "validation_datagen = ImageDataGenerator(rescale=1.0/255,\n",
        "                                        validation_split = 0.1\n",
        "                                        )\n",
        "validation_generator = validation_datagen.flow_from_directory(validation_dir,\n",
        "                                                              batch_size=32,\n",
        "                                                              subset = 'validation',\n",
        "                                                              class_mode ='categorical',\n",
        "                                                              target_size=(64,64),\n",
        "                                                              shuffle = True)\n",
        "\n",
        "test_dir = '/content/drive/MyDrive/Fire-Safety-Dataset/Test/'\n",
        "test_datagen = ImageDataGenerator(rescale = 1./255,\n",
        "                                  )\n",
        "test_generator =test_datagen.flow_from_directory(test_dir,\n",
        "                                                              batch_size=32,\n",
        "                                                              class_mode ='categorical',\n",
        "                                                              target_size=(64,64),\n",
        "                                                              shuffle = True)"
      ]
    },
    {
      "cell_type": "code",
      "execution_count": null,
      "metadata": {
        "id": "ejj9bF7Wfh2X"
      },
      "outputs": [],
      "source": [
        "import tensorflow as tf\n",
        "from tensorflow.keras.datasets import cifar10\n",
        "from tensorflow.keras.preprocessing.image import ImageDataGenerator\n",
        "from tensorflow.keras.models import Sequential\n",
        "from tensorflow.keras.layers import Dense, Dropout, Activation, Flatten\n",
        "from tensorflow.keras.layers import Conv2D, AveragePooling2D\n",
        "\n",
        "model = Sequential()\n",
        "\n",
        "model.add(Conv2D(filters=16, kernel_size=(3, 3), activation='relu', input_shape=(64,64,3)))\n",
        "model.add(AveragePooling2D())\n",
        "model.add(Dropout(0.5))\n",
        "\n",
        "model.add(Conv2D(filters=32, kernel_size=(3, 3), activation='relu'))\n",
        "model.add(AveragePooling2D())\n",
        "model.add(Dropout(0.5))\n",
        "\n",
        "model.add(Conv2D(filters=64, kernel_size=(3, 3), activation='relu'))\n",
        "model.add(AveragePooling2D())\n",
        "model.add(Dropout(0.5))\n",
        "\n",
        "model.add(Flatten())\n",
        "\n",
        "model.add(Dense(units=256, activation='relu'))\n",
        "model.add(Dropout(0.2))\n",
        "\n",
        "model.add(Dense(units=128, activation='relu'))\n",
        "\n",
        "model.add(Dense(units=2, activation = 'softmax'))\n",
        "\n",
        "model.compile(loss='categorical_crossentropy',\n",
        "              optimizer='adam',\n",
        "              metrics=['accuracy'])"
      ]
    },
    {
      "cell_type": "code",
      "execution_count": null,
      "metadata": {
        "colab": {
          "base_uri": "https://localhost:8080/"
        },
        "id": "_X3uBtEDfkIC",
        "outputId": "377f3c01-c4bd-4711-c30e-bcca9ae55984"
      },
      "outputs": [
        {
          "name": "stdout",
          "output_type": "stream",
          "text": [
            "Epoch 1/10\n",
            "275/275 [==============================] - 459s 2s/step - loss: 0.6513 - accuracy: 0.6014 - val_loss: 0.5807 - val_accuracy: 0.5943\n",
            "Epoch 2/10\n",
            "275/275 [==============================] - 61s 220ms/step - loss: 0.4988 - accuracy: 0.7647 - val_loss: 0.5702 - val_accuracy: 0.6855\n",
            "Epoch 3/10\n",
            "275/275 [==============================] - 63s 221ms/step - loss: 0.4421 - accuracy: 0.8045 - val_loss: 0.3109 - val_accuracy: 0.8760\n",
            "Epoch 4/10\n",
            "275/275 [==============================] - 63s 220ms/step - loss: 0.3813 - accuracy: 0.8423 - val_loss: 0.2412 - val_accuracy: 0.8986\n",
            "Epoch 5/10\n",
            "275/275 [==============================] - 62s 221ms/step - loss: 0.3518 - accuracy: 0.8526 - val_loss: 0.2794 - val_accuracy: 0.8832\n",
            "Epoch 6/10\n",
            "275/275 [==============================] - 61s 219ms/step - loss: 0.3442 - accuracy: 0.8570 - val_loss: 0.2996 - val_accuracy: 0.8719\n",
            "Epoch 7/10\n",
            "275/275 [==============================] - 61s 217ms/step - loss: 0.3311 - accuracy: 0.8593 - val_loss: 0.2155 - val_accuracy: 0.9057\n",
            "Epoch 8/10\n",
            "275/275 [==============================] - 61s 219ms/step - loss: 0.3179 - accuracy: 0.8750 - val_loss: 0.1785 - val_accuracy: 0.9211\n",
            "Epoch 9/10\n",
            "275/275 [==============================] - 61s 219ms/step - loss: 0.3149 - accuracy: 0.8701 - val_loss: 0.1957 - val_accuracy: 0.9221\n",
            "Epoch 10/10\n",
            "275/275 [==============================] - 62s 217ms/step - loss: 0.3087 - accuracy: 0.8769 - val_loss: 0.1797 - val_accuracy: 0.9201\n"
          ]
        }
      ],
      "source": [
        "history = model.fit(train_generator,\n",
        "                    shuffle = True,\n",
        "                    epochs=10,\n",
        "                    workers = 8,\n",
        "                    verbose=True,\n",
        "                    validation_data=validation_generator\n",
        "                    )"
      ]
    },
    {
      "cell_type": "code",
      "execution_count": null,
      "metadata": {
        "colab": {
          "base_uri": "https://localhost:8080/",
          "height": 295
        },
        "id": "TFD1Rk_Ufl9E",
        "outputId": "881a8868-ad5b-40d2-a625-6f7863840930"
      },
      "outputs": [
        {
          "data": {
            "image/png": "[encoded data removed]",
            "text/plain": [
              "<Figure size 432x288 with 1 Axes>"
            ]
          },
          "metadata": {
            "needs_background": "light",
            "tags": []
          },
          "output_type": "display_data"
        }
      ],
      "source": [
        "plt.plot(history.history['accuracy'])\n",
        "plt.plot(history.history['val_accuracy'])\n",
        "plt.title('model accuracy')\n",
        "plt.ylabel('accuracy')\n",
        "plt.xlabel('epoch')\n",
        "plt.legend(['train', 'validation'], loc='upper left')\n",
        "plt.show()"
      ]
    },
    {
      "cell_type": "code",
      "execution_count": null,
      "metadata": {
        "colab": {
          "base_uri": "https://localhost:8080/"
        },
        "id": "Wl2SST02ipjm",
        "outputId": "9a189fd3-4935-4294-9418-3b85bcc8fb9d"
      },
      "outputs": [
        {
          "name": "stdout",
          "output_type": "stream",
          "text": [
            "46/46 [==============================] - 6s 134ms/step - loss: 0.2724 - accuracy: 0.8655\n"
          ]
        },
        {
          "data": {
            "text/plain": [
              "[0.2724178433418274, 0.86548912525177]"
            ]
          },
          "execution_count": 15,
          "metadata": {
            "tags": []
          },
          "output_type": "execute_result"
        }
      ],
      "source": [
        "model.evaluate(test_generator, batch_size=32,verbose = True)"
      ]
    },
    {
      "cell_type": "code",
      "execution_count": null,
      "metadata": {
        "id": "9lTaFOU_n1V6"
      },
      "outputs": [],
      "source": [
        "def check_area(image):\n",
        "  frame = image\n",
        "  frame = cv2.resize(frame, (500, 500))\n",
        "  hsv = cv2.cvtColor(frame, cv2.COLOR_BGR2HSV)\n",
        "  hl = 0\n",
        "  sl = 0\n",
        "  vl = 246\n",
        "  hh = 255\n",
        "  sh = 255\n",
        "  vh = 255\n",
        "\n",
        "  low = np.array([hl, sl, vl])\n",
        "  high = np.array([hh, sh, vh])\n",
        "\n",
        "  mask = cv2.inRange(hsv, low, high)\n",
        "\n",
        "  _, thresh = cv2.threshold(mask, 125, 255, cv2.THRESH_BINARY)\n",
        "  contours, _ = cv2.findContours(thresh, cv2.RETR_TREE, cv2.CHAIN_APPROX_SIMPLE)\n",
        "  totalArea = 0\n",
        "  for i in range(0, len(contours)):\n",
        "      approx = cv2.approxPolyDP(contours[i], 0.01 * cv2.arcLength(contours[i], True), True)\n",
        "      area = cv2.contourArea(contours[i])\n",
        "      totalArea = totalArea + area\n",
        "      cv2.drawContours(frame, contours, i, (0, 255, 0), 2)\n",
        "\n",
        "  #cv2_imshow( mask)\n",
        "  #cv2_imshow(frame)\n",
        "  t = 1\n",
        "  return (totalArea/2500)\n",
        "\n",
        "def cost_calc(arr, image):\n",
        "  cost=0\n",
        "  if arr == 1 :\n",
        "    cost = check_area(image)\n",
        "  return cost\n",
        "\n",
        "def fire(filename):\n",
        "  imag = cv2.imread(filename)\n",
        "  #cv2_imshow(imag)\n",
        "\n",
        "  image_path = filename\n",
        "  img = load_img(image_path, target_size = (64,64))\n",
        "  x = image.img_to_array(img)\n",
        "  x = np.expand_dims(x, axis=0)\n",
        "  x = x/255\n",
        "  p = model.predict(x)\n",
        "  #print(p)\n",
        "  #print(labels[i])\n",
        "  i = np.argmax(p,1).squeeze()\n",
        "  return cost_calc(i, imag)"
      ]
    },
    {
      "cell_type": "code",
      "execution_count": null,
      "metadata": {
        "id": "05wjotKJqjml"
      },
      "outputs": [],
      "source": []
    }
  ],
  "metadata": {
    "accelerator": "GPU",
    "colab": {
      "collapsed_sections": [],
      "include_colab_link": true,
      "name": "modelfire-train.ipynb",
      "provenance": []
    },
    "kernelspec": {
      "display_name": "Python 3",
      "name": "python3"
    }
  },
  "nbformat": 4,
  "nbformat_minor": 0
}
